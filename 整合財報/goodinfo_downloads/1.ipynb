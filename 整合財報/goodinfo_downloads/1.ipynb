{
 "cells": [
  {
   "cell_type": "code",
   "execution_count": 2,
   "id": "6e0cd232",
   "metadata": {},
   "outputs": [
    {
     "name": "stdout",
     "output_type": "stream",
     "text": [
      "     代號  名稱 year_quarter financial_metric value\n",
      "0  1235  興泰       2022Q1              EPS  0.24\n",
      "1  1236  宏亞       2022Q1              EPS  3.89\n",
      "2  1301  台塑       2022Q1              EPS   2.6\n",
      "3  1304  台聚       2022Q1              EPS   0.5\n",
      "4  1305  華夏       2022Q1              EPS  0.78\n"
     ]
    }
   ],
   "source": [
    "import pandas as pd\n",
    "\n",
    "# === 讀取資料（假設你已經有 DataFrame）\n",
    "df = pd.read_csv(\"EPS元_ROE-1000_0_上市.csv\", encoding=\"utf-8-sig\")\n",
    "\n",
    "# === 移除非財務欄位（保留 '代號', '名稱' 等基本欄位 + 所有含 EPS 的欄位）\n",
    "base_cols = [\"代號\", \"名稱\"]\n",
    "eps_cols = [col for col in df.columns if \"EPS\" in col and \"平均\" not in col]  # 排除「平均 EPS」\n",
    "\n",
    "df_eps = df[base_cols + eps_cols].copy()\n",
    "\n",
    "# === 長格式轉換（melt）\n",
    "df_long = df_eps.melt(id_vars=base_cols, var_name=\"原始欄位名稱\", value_name=\"value\")\n",
    "\n",
    "# === 拆成 year_quarter 與 financial_metric（例如 EPS）\n",
    "df_long[\"year_quarter\"] = df_long[\"原始欄位名稱\"].str.extract(r\"(\\d{2}Q\\d)\")\n",
    "df_long[\"year_quarter\"] = \"20\" + df_long[\"year_quarter\"]  # 補上完整年份\n",
    "df_long[\"financial_metric\"] = \"EPS\"  # 根據欄位內容指定指標\n",
    "\n",
    "# === 最終欄位順序\n",
    "df_final = df_long[[\"代號\", \"名稱\", \"year_quarter\", \"financial_metric\", \"value\"]]\n",
    "\n",
    "# === 輸出確認（可寫入CSV）\n",
    "print(df_final.head())"
   ]
  },
  {
   "cell_type": "code",
   "execution_count": 3,
   "id": "6baebeab",
   "metadata": {},
   "outputs": [
    {
     "name": "stdout",
     "output_type": "stream",
     "text": [
      "1.ipynb\n",
      "EPS元_ROE-1000_0_上市.csv\n",
      "EPS元_ROE-1000_0_上櫃.csv\n",
      "EPS元_ROE0_1000_上市.csv\n",
      "EPS元_ROE0_1000_上櫃.csv\n",
      "業外損益億_ROE-1000_0_上市.csv\n",
      "業外損益億_ROE-1000_0_上櫃.csv\n",
      "業外損益億_ROE0_1000_上市.csv\n",
      "業外損益億_ROE0_1000_上櫃.csv\n",
      "營業利益億_ROE-1000_0_上市.csv\n",
      "營業利益億_ROE-1000_0_上櫃.csv\n",
      "營業利益億_ROE0_1000_上市.csv\n",
      "營業利益億_ROE0_1000_上櫃.csv\n",
      "營業收入億_ROE-1000_0_上市.csv\n",
      "營業收入億_ROE-1000_0_上櫃.csv\n",
      "營業收入億_ROE0_1000_上市.csv\n",
      "營業收入億_ROE0_1000_上櫃.csv\n",
      "營業毛利億_ROE-1000_0_上市.csv\n",
      "營業毛利億_ROE-1000_0_上櫃.csv\n",
      "營業毛利億_ROE0_1000_上市.csv\n",
      "營業毛利億_ROE0_1000_上櫃.csv\n"
     ]
    },
    {
     "name": "stderr",
     "output_type": "stream",
     "text": [
      "<>:3: SyntaxWarning: invalid escape sequence '\\M'\n",
      "<>:3: SyntaxWarning: invalid escape sequence '\\M'\n",
      "C:\\Users\\Robby1206\\AppData\\Local\\Temp\\ipykernel_23920\\274987253.py:3: SyntaxWarning: invalid escape sequence '\\M'\n",
      "  folder_path = 'G:\\ML for stock\\整合財報\\goodinfo_downloads'\n"
     ]
    }
   ],
   "source": [
    "import os\n",
    "\n",
    "folder_path = 'G:\\ML for stock\\整合財報\\goodinfo_downloads'\n",
    "\n",
    "# 列出該資料夾下所有檔案與資料夾名稱\n",
    "for filename in os.listdir(folder_path):\n",
    "    print(filename)\n"
   ]
  },
  {
   "cell_type": "code",
   "execution_count": 5,
   "id": "3296907a",
   "metadata": {},
   "outputs": [
    {
     "name": "stdout",
     "output_type": "stream",
     "text": [
      "處理檔案 EPS_整合後.csv 時發生錯誤：value_name (EPS) cannot match an element in the DataFrame columns.\n",
      "✅ 所有檔案處理完畢，結果已輸出為 EPS_整合後.csv\n"
     ]
    }
   ],
   "source": [
    "import os\n",
    "import pandas as pd\n",
    "import re\n",
    "\n",
    "folder_path = r'G:\\ML for stock\\整合財報\\goodinfo_downloads'\n",
    "\n",
    "all_files = [f for f in os.listdir(folder_path) if f.endswith('.csv')]\n",
    "all_dfs = []\n",
    "\n",
    "def convert_season(col):\n",
    "    match = re.match(r\"(\\d{2})Q(\\d)\", col)\n",
    "    if match:\n",
    "        year = int(match.group(1))\n",
    "        quarter = match.group(2)\n",
    "        year = 2000 + year if year < 50 else 1900 + year\n",
    "        return f\"{year}Q{quarter}\"\n",
    "    return col\n",
    "\n",
    "for file in all_files:\n",
    "    file_path = os.path.join(folder_path, file)\n",
    "    try:\n",
    "        df = pd.read_csv(file_path)\n",
    "\n",
    "        # 抓 EPS 欄位\n",
    "        eps_columns = [col for col in df.columns if re.match(r\"^\\d{2}Q\\d EPS \\(元\\)$\", col)]\n",
    "        id_vars = [col for col in df.columns if col not in eps_columns]\n",
    "\n",
    "        melted_df = df.melt(id_vars=id_vars, value_vars=eps_columns,\n",
    "                            var_name=\"原始欄位\", value_name=\"EPS\")\n",
    "\n",
    "        melted_df[\"季別\"] = melted_df[\"原始欄位\"].apply(lambda x: convert_season(x[:4]))\n",
    "        melted_df[\"來源檔名\"] = file  # 增加一欄來記錄來源\n",
    "\n",
    "        final_df = melted_df.drop(columns=[\"原始欄位\"])\n",
    "        final_df = final_df[[\"代號\", \"名稱\", \"季別\", \"EPS\", \"來源檔名\"] + [col for col in id_vars if col not in [\"代號\", \"名稱\"]]]\n",
    "\n",
    "        all_dfs.append(final_df)\n",
    "\n",
    "    except Exception as e:\n",
    "        print(f\"處理檔案 {file} 時發生錯誤：{e}\")\n",
    "\n",
    "# 合併所有檔案\n",
    "combined_df = pd.concat(all_dfs, ignore_index=True)\n",
    "\n",
    "# 儲存成新的 CSV\n",
    "combined_df.to_csv(os.path.join(folder_path, \"EPS_整合後.csv\"), index=False, encoding=\"utf-8-sig\")\n",
    "print(\"✅ 所有檔案處理完畢，結果已輸出為 EPS_整合後.csv\")\n"
   ]
  }
 ],
 "metadata": {
  "kernelspec": {
   "display_name": "base",
   "language": "python",
   "name": "python3"
  },
  "language_info": {
   "codemirror_mode": {
    "name": "ipython",
    "version": 3
   },
   "file_extension": ".py",
   "mimetype": "text/x-python",
   "name": "python",
   "nbconvert_exporter": "python",
   "pygments_lexer": "ipython3",
   "version": "3.12.7"
  }
 },
 "nbformat": 4,
 "nbformat_minor": 5
}
